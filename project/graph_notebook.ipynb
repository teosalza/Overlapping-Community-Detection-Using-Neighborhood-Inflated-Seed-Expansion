{
 "cells": [
  {
   "cell_type": "code",
   "execution_count": 297,
   "metadata": {},
   "outputs": [],
   "source": [
    "import pandas as pd\n",
    "import numpy as np\n",
    "import networkx as nx\n",
    "import matplotlib.pyplot as plt\n",
    "import scipy\n",
    "import random\n",
    "import itertools\n",
    "import matplotlib.patches as mpatches\n",
    "from statistics import mean\n",
    "from networkx.algorithms.community import girvan_newman\n",
    "from networkx.algorithms.community import greedy_modularity_communities\n",
    "from networkx.algorithms.community import modularity\n",
    "from networkx.algorithms.community import naive_greedy_modularity_communities\n"
   ]
  },
  {
   "cell_type": "markdown",
   "metadata": {},
   "source": [
    "### Useful functions"
   ]
  },
  {
   "cell_type": "code",
   "execution_count": 298,
   "metadata": {},
   "outputs": [],
   "source": [
    "#Useful functions\n",
    "\n",
    "    #loading data for Graph generation\n",
    "def load_data(filename):\n",
    "    input_lines = []\n",
    "    raw_lines = open(filename, 'r').read().splitlines()\n",
    "    num_nodes = 0\n",
    "    nodes = {}\n",
    "    for line in raw_lines:\n",
    "        line_content = line.split()\n",
    "        from_id = int(line_content[0])\n",
    "        to_id = int(line_content[1])\n",
    "        if from_id not in nodes:\n",
    "            nodes[from_id] = num_nodes\n",
    "            num_nodes += 1\n",
    "        if to_id not in nodes:\n",
    "            nodes[to_id] = num_nodes\n",
    "            num_nodes += 1\n",
    "        input_lines.append([nodes[from_id], nodes[to_id]])\n",
    "    return input_lines, num_nodes\n",
    "\n",
    "#Display statistic of nodes degree\n",
    "def show_degree_distribution(G,name):\n",
    "    nodes_degrees_x = []\n",
    "    nodes_degrees_y = []\n",
    "    G2 = G.copy()\n",
    "    edges_counter = 1\n",
    "    generation = 0\n",
    "    while True:\n",
    "        iter_counter = 0\n",
    "        for e in G2.nodes:\n",
    "            if len(list(G2.neighbors(e))) == edges_counter:\n",
    "                iter_counter += 1\n",
    "        if iter_counter == 0 : break\n",
    "        nodes_degrees_x.append(generation)\n",
    "        nodes_degrees_y.append(iter_counter)\n",
    "        generation +=1\n",
    "        edges_counter += 1\n",
    "\n",
    "    fig = plt.figure(1, figsize=(20, 20))\n",
    "    ax = fig.add_subplot(211)\n",
    "    ax.scatter(nodes_degrees_x,nodes_degrees_y,s=50,facecolor='none',edgecolors='r')\n",
    "    ax.set_yscale('log')\n",
    "    ax.set_xscale('log')\n",
    "    plt.ylabel(\"No. node\",fontsize=18)\n",
    "    plt.xlabel(\"Degree\",fontsize=18)\n",
    "    red_patch = mpatches.Patch(color=\"red\", label=name)\n",
    "    ax.legend(handles=[red_patch],prop={'size': 20})\n",
    "    plt.show()\n",
    "\n",
    "def filtered_graph(G):\n",
    "    node_list = []\n",
    "    for e in G2.nodes:\n",
    "        neigh_list = list(G.neighbors(e))\n",
    "        if  len(neigh_list) == 1:\n",
    "            neigh = neigh_list[0]\n",
    "            node_list.append([e,neigh])\n",
    "    if len(node_list) != 0:\n",
    "        for n in node_list:\n",
    "            if(G.has_edge(n[0],n[1])):\n",
    "                G.remove_edge(n[0],n[1])\n",
    "            # G.remove_node(n[0])\n",
    "        return filtered_graph(G)\n",
    "    return G\n",
    "\n",
    "def get_subgraphs_cluster(G):\n",
    "    communities = greedy_modularity_communities(G)\n",
    "    print(\"Number of communities with best modularity: \"+str(len(communities)))\n",
    "    communities_subgraphs = []\n",
    "    for c in communities:\n",
    "        communities_subgraphs.append(G.subgraph(c))\n",
    "    return communities_subgraphs\n",
    "\n",
    "def compute_distance_v_Ci(v,cluster,G_biconnected_core,sigma):\n",
    "    links_Ci_Ci = cluster.number_of_edges() #number of intra-cluster links\n",
    "    deg_Ci = sum(dict(G_biconnected_core.degree(cluster.nodes())).values())\n",
    "    deg_V = G_biconnected_core.degree(v)\n",
    "    links_v_Ci = cluster.degree(v)\n",
    "    distance = -1*((2*links_v_Ci) /(deg_V*deg_Ci)) + links_Ci_Ci/(deg_Ci**2) + (sigma/deg_V) - (sigma/deg_Ci)\n",
    "    return distance\n",
    "\n",
    "def compute_graclus_center(clusters_list,G_biconnected_core):\n",
    "    seed_dict = {}\n",
    "    for (idx,cluster) in enumerate(clusters_list):\n",
    "        distance_array = {}\n",
    "        for n in cluster.nodes:\n",
    "            distance = compute_distance_v_Ci(n,cluster,G_biconnected_core,1)\n",
    "            distance_array[n] = distance\n",
    "        seed_dict[\"C\"+str(idx)] = min([(value,key) for key,value in distance_array.items()])[1]\n",
    "    return seed_dict\n",
    "    \n",
    "def compute_seed_by_spred_hubs(G,k):\n",
    "    seed_list  = []\n",
    "    while len(seed_list) < k:\n",
    "        filtered_visited = [n for n in G.nodes() if G.nodes[n][\"visited\"] == False]\n",
    "        filtered_visited_graph = G.subgraph(filtered_visited)\n",
    "        max_degree = max([e[1] for e in filtered_visited_graph.degree])\n",
    "        filtered_nodes = [n for n in G.nodes() if G.degree(n) == max_degree] \n",
    "        for n in filtered_nodes:\n",
    "            seed_list.append(n)\n",
    "            G.nodes[n][\"visited\"] = True\n",
    "            for neig in G.neighbors(n):\n",
    "                G.nodes[neig][\"visited\"] = True\n",
    "    return \n"
   ]
  },
  {
   "cell_type": "markdown",
   "metadata": {},
   "source": [
    "## Loading and decsription data Phase"
   ]
  },
  {
   "cell_type": "code",
   "execution_count": 299,
   "metadata": {},
   "outputs": [],
   "source": [
    "#Load dataset into networkx\n",
    "dataset_name=\"HepPh\"\n",
    "path =\"..\\datasets\\\\facebook\\\\0.edges\"\n",
    "# path =\"..\\datasets\\\\myspace\\\\soc-myspace.edges\"\n",
    "# path =\"..\\datasets\\\\HepPh\\\\ca-HepPh.mtx\"\n",
    "# path = \"..\\datasets\\\\AstroPh\\\\AstroPh.txt\"\n",
    "\n",
    "input_edges, num_nodes = load_data(path)\n",
    "# G = nx.Graph(input_edges)\n",
    "G = nx.read_edgelist(path,create_using=nx.Graph(), nodetype = int)\n",
    "for n in G.nodes:\n",
    "    G.nodes[n][\"visited\"] = False\n",
    "\n",
    "# fig = plt.figure(1, figsize=(20, 20), dpi=80)\n",
    "# nx.draw(G, node_size=100,with_labels=True)\n",
    "\n"
   ]
  },
  {
   "cell_type": "code",
   "execution_count": 300,
   "metadata": {},
   "outputs": [
    {
     "name": "stdout",
     "output_type": "stream",
     "text": [
      "    name  No. vertices  No. edges  Max. deg Avg. deg Avg. CC\n",
      "0  HepPh           333       2519        77     15.1  0.5082\n"
     ]
    },
    {
     "data": {
      "image/png": "[encoded data removed]",
      "text/plain": [
       "<Figure size 1440x1440 with 1 Axes>"
      ]
     },
     "metadata": {
      "needs_background": "light"
     },
     "output_type": "display_data"
    }
   ],
   "source": [
    "#Dataset descritpion\n",
    "max_degree = max([e[1] for e in G.degree])\n",
    "avg_degree = '{0:.3g}'.format(mean([e[1] for e in G.degree]))\n",
    "avg_clustering_coefficient = '{0:.4g}'.format(nx.average_clustering(G))\n",
    "\n",
    "dt_description = pd.DataFrame({\n",
    "    \"name\":[dataset_name],\n",
    "    \"No. vertices\":[G.number_of_nodes()],\n",
    "    \"No. edges\":[G.number_of_edges()],\n",
    "    \"Max. deg\":[max_degree],\n",
    "    \"Avg. deg\":[avg_degree],\n",
    "    \"Avg. CC\":[avg_clustering_coefficient]})\n",
    "print(dt_description)\n",
    "\n",
    "#Graph for show degree distribution of nodes\n",
    "show_degree_distribution(G,dataset_name)"
   ]
  },
  {
   "cell_type": "markdown",
   "metadata": {},
   "source": [
    "## Filtering Phase"
   ]
  },
  {
   "cell_type": "markdown",
   "metadata": {},
   "source": [
    "In this phase firt we filter the graph, we start removing the whiskers which are nodes connected only with one bridge.\n",
    "\n",
    "We repeat the operation until no more nodes have ony one connection, the resulted graph is called biconnected core.\n",
    "\n",
    "The biconnected core is defined as the largest connected component of the graph after we remove all single-edge biconnected components (whiskers)."
   ]
  },
  {
   "cell_type": "code",
   "execution_count": 301,
   "metadata": {},
   "outputs": [
    {
     "name": "stdout",
     "output_type": "stream",
     "text": [
      "G statistics before filtering:\n",
      "     -Graph with 333 nodes and 2519 edges\n",
      "G_biconnected statistics after filtering:\n",
      "     -Graph with 299 nodes and 2489 edges\n",
      "\n",
      "  No. of vertices (%) No. of edges (%)  No. components detached  \\\n",
      "0           299(89.8)       2489(98.8)                       34   \n",
      "\n",
      "  Size of the LCC (%)  \n",
      "0              6(1.8)  \n"
     ]
    }
   ],
   "source": [
    "#Filtering phase\n",
    "    #Filtering the graph, removing the  whiskers from the biconnected core\n",
    "def filter_detached_graph(G,G_biconnected_core):\n",
    "    for n in G_biconnected_core.nodes:\n",
    "        G.remove_node(n)\n",
    "    return G\n",
    "\n",
    "\n",
    "G2 = G.copy()\n",
    "G3 = filtered_graph(G2)\n",
    "\n",
    "\n",
    "\n",
    "G_biconnected_core = G3.subgraph(max(nx.connected_components(G3), key=len)).copy()\n",
    "\n",
    "# fig = plt.figure(1, figsize=(20, 20), dpi=80)\n",
    "# nx.draw(G_biconnected_core , node_size=50,with_labels=True)\n",
    "# plt.show()\n",
    "\n",
    "G_detached = filter_detached_graph(G.copy(),G_biconnected_core)\n",
    "\n",
    "\n",
    "# fig = plt.figure(1, figsize=(20, 20), dpi=80)\n",
    "# nx.draw(G_detached , node_size=50,with_labels=True)\n",
    "# plt.show()\n",
    "\n",
    "print(\"G statistics before filtering:\")\n",
    "print(\"     -\"+nx.info(G))\n",
    "print(\"G_biconnected statistics after filtering:\")\n",
    "print(\"     -\"+nx.info(G_biconnected_core))\n",
    "print(\"\")\n",
    "perc_no_verticles = '{0:.3g}'.format(len(G_biconnected_core.nodes)/len(G.nodes)*100)\n",
    "perc_no_edges = '{0:.3g}'.format(len(G_biconnected_core.edges)/len(G.edges)*100)\n",
    "max_comp_detach =  len(max(nx.connected_components(G_detached), key=len))\n",
    "perc_max_comp_detach ='{0:.3g}'.format(max_comp_detach / len(G.nodes) * 100) \n",
    "\n",
    "bc_description = pd.DataFrame({\n",
    "    \"No. of vertices (%)\":[str(len(G_biconnected_core.nodes))+'('+str(perc_no_verticles)+')'],\n",
    "    \"No. of edges (%)\":[str(len(G_biconnected_core.edges))+'('+str(perc_no_edges)+')'],\n",
    "    \"No. components detached\":[len(G_detached.nodes)],\n",
    "    \"Size of the LCC (%)\":[str(max_comp_detach)+\"(\"+str(perc_max_comp_detach)+\")\"]})\n",
    "print(bc_description)\n",
    "\n",
    "\n"
   ]
  },
  {
   "cell_type": "markdown",
   "metadata": {},
   "source": [
    "## Seeding Phase\n",
    "\n",
    "The goal of an effective seeding strategy is to identify a diversity of vertices, each of which lies\n",
    "\n",
    "within a cluster of good conductance."
   ]
  },
  {
   "cell_type": "code",
   "execution_count": 302,
   "metadata": {},
   "outputs": [],
   "source": [
    "# def get_best_partition(G):\n",
    "#     modularity_list = []\n",
    "#     counter = 0\n",
    "#     print(\"starting girvan newmann community detection\")\n",
    "#     communities = girvan_newman(G)\n",
    "#     len_community = len(list(communities))\n",
    "#     print(\"finiseh community detection\")\n",
    "#     for c in communities:\n",
    "#         print(\"Elaborating \"+str(counter) +\" of \"+str(len_community))\n",
    "#         modularity_list.append(modularity(G,c))\n",
    "#         counter += 1\n",
    "\n",
    "#     plt.plot(np.arange(len(modularity_list)),modularity_list)\n",
    "#     plt.xlabel(\"Community level\")\n",
    "#     plt.ylabel(\"Modularity\")\n",
    "#     plt.show()\n",
    "#     return\n",
    "# G_partitioned = get_best_partition(G_biconnected_core)"
   ]
  },
  {
   "cell_type": "code",
   "execution_count": 303,
   "metadata": {},
   "outputs": [
    {
     "name": "stdout",
     "output_type": "stream",
     "text": [
      "Number of communities with best modularity: 8\n"
     ]
    }
   ],
   "source": [
    "#Exhaustive non-overlapping clusters on G_biconnected_core\n",
    "communities_subgraphs_clusters = get_subgraphs_cluster(G_biconnected_core)\n",
    "#Get seed list computing the Graclus center algorithm\n",
    "seed_dict_gc = compute_graclus_center(communities_subgraphs_clusters,G_biconnected_core)\n",
    "#Get seed list computing the Spread Hubs"
   ]
  },
  {
   "cell_type": "markdown",
   "metadata": {},
   "source": [
    "## Seed expansion phase"
   ]
  },
  {
   "cell_type": "code",
   "execution_count": 304,
   "metadata": {},
   "outputs": [
    {
     "name": "stdout",
     "output_type": "stream",
     "text": [
      "77\n",
      "25\n",
      "24\n"
     ]
    }
   ],
   "source": [
    "\n",
    "k = 8\n",
    "Gb_copy = G_biconnected_core.copy()\n",
    "\n",
    "\n",
    "    # print(filtered_nodes)\n",
    "    # print(Gb_copy.degree(filtered_nodes))"
   ]
  },
  {
   "cell_type": "code",
   "execution_count": 307,
   "metadata": {},
   "outputs": [
    {
     "name": "stdout",
     "output_type": "stream",
     "text": [
      "[56, 62, 185, 312, 158, 232, 161, 297, 324]\n",
      "{'C0': 56, 'C1': 213, 'C2': 312, 'C3': 31, 'C4': 339, 'C5': 150, 'C6': 4, 'C7': 89}\n"
     ]
    }
   ],
   "source": [
    "print(seed_list)\n",
    "print(seed_dict_gc)"
   ]
  }
 ],
 "metadata": {
  "kernelspec": {
   "display_name": "Python 3.7.9 ('community_detection': venv)",
   "language": "python",
   "name": "python3"
  },
  "language_info": {
   "codemirror_mode": {
    "name": "ipython",
    "version": 3
   },
   "file_extension": ".py",
   "mimetype": "text/x-python",
   "name": "python",
   "nbconvert_exporter": "python",
   "pygments_lexer": "ipython3",
   "version": "3.7.9"
  },
  "orig_nbformat": 4,
  "vscode": {
   "interpreter": {
    "hash": "7f24ae7712c664ca6484aa321cba9c44253bb64ee1620105533f10277aa6d837"
   }
  }
 },
 "nbformat": 4,
 "nbformat_minor": 2
}
